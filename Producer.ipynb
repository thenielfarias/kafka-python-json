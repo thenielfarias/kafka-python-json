{
  "nbformat": 4,
  "nbformat_minor": 0,
  "metadata": {
    "colab": {
      "name": "Producer.ipynb",
      "provenance": [],
      "collapsed_sections": []
    },
    "kernelspec": {
      "display_name": "Python 3 (ipykernel)",
      "language": "python",
      "name": "python3"
    },
    "language_info": {
      "codemirror_mode": {
        "name": "ipython",
        "version": 3
      },
      "file_extension": ".py",
      "mimetype": "text/x-python",
      "name": "python",
      "nbconvert_exporter": "python",
      "pygments_lexer": "ipython3",
      "version": "3.9.5"
    }
  },
  "cells": [
    {
      "cell_type": "code",
      "metadata": {
        "colab": {
          "base_uri": "https://localhost:8080/"
        },
        "id": "DWeRO4SdEVW9",
        "outputId": "95105096-7439-442e-f850-8d058fc8a08a"
      },
      "source": [
        "!pip install confluent_kafka"
      ],
      "execution_count": 1,
      "outputs": [
        {
          "output_type": "stream",
          "name": "stdout",
          "text": [
            "Collecting confluent_kafka\n",
            "  Downloading confluent_kafka-1.7.0-cp37-cp37m-manylinux2010_x86_64.whl (2.7 MB)\n",
            "\u001b[K     |████████████████████████████████| 2.7 MB 33.9 MB/s \n",
            "\u001b[?25hInstalling collected packages: confluent-kafka\n",
            "Successfully installed confluent-kafka-1.7.0\n"
          ]
        }
      ]
    },
    {
      "cell_type": "code",
      "metadata": {
        "id": "3Icc225QGKgJ"
      },
      "source": [
        "# Params\n",
        "\n",
        "nome_destino = 'Balneario Camboriu'\n",
        "id_destino = '192594'\n",
        "checkin = '2021-11-28' # Formato AAAA-MM-DD\n",
        "checkout = '2021-11-30' # Formato AAAA-MM-DD\n",
        "pax = '2' # Número de hóspedes (adultos)\n",
        "\n",
        "for i in range(9):\n",
        "    data = {'nome_destino': nome_destino,\n",
        "        'id_destino' : id_destino,\n",
        "        'checkin' : checkin,\n",
        "        'checkout' : checkout,\n",
        "        'pax' : pax\n",
        "    }   "
      ],
      "execution_count": 7,
      "outputs": []
    },
    {
      "cell_type": "code",
      "metadata": {
        "colab": {
          "base_uri": "https://localhost:8080/"
        },
        "id": "P_X71RFmEeez",
        "outputId": "7fcc042a-e68a-4daa-d34e-0ffa00e26f94"
      },
      "source": [
        "import sys\n",
        "import os\n",
        "import json\n",
        "from bson import json_util\n",
        "\n",
        "from confluent_kafka import Producer\n",
        "\n",
        "def delivery_callback(err, msg):\n",
        "    if err:\n",
        "        print(err)\n",
        "    else:\n",
        "        print('Orders delivered!')\n",
        "\n",
        "def createTopic():\n",
        "    print(\"init\");\n",
        "    topic = 'dq0utqfp-default'\n",
        "\n",
        "    conf = {\n",
        "        'bootstrap.servers': 'glider-01.srvs.cloudkafka.com:9094,glider-02.srvs.cloudkafka.com:9094,glider-03.srvs.cloudkafka.com:9094',\n",
        "        'session.timeout.ms': 6000,\n",
        "        'default.topic.config': {'auto.offset.reset': 'smallest'},\n",
        "        'security.protocol': 'SASL_SSL',\n",
        "\t'sasl.mechanisms': 'SCRAM-SHA-256',\n",
        "        'sasl.username': 'dq0utqfp',\n",
        "        'sasl.password': 'qjNF0zq-VlOi4OyTgkoIrqGcZtBLT17u'\n",
        "    }\n",
        "\n",
        "    p = Producer(conf)\n",
        "\n",
        "    try:\n",
        "        p.produce(topic, 'orders', json.dumps(data, default=json_util.default).encode('utf-8'), callback=delivery_callback)\n",
        "    except BufferError as e:\n",
        "        print('Local producer queue is full, awaiting delivery. Try again')\n",
        "        \n",
        "    p.poll(0)\n",
        "\n",
        "    print('Waiting for delivery...')\n",
        "    p.flush()\n",
        "\n",
        "createTopic();"
      ],
      "execution_count": 9,
      "outputs": [
        {
          "output_type": "stream",
          "name": "stdout",
          "text": [
            "init\n",
            "Waiting for delivery...\n",
            "Orders delivered!\n"
          ]
        }
      ]
    },
    {
      "cell_type": "code",
      "metadata": {
        "id": "h3Rt9CyeFwAe"
      },
      "source": [
        ""
      ],
      "execution_count": 3,
      "outputs": []
    }
  ]
}