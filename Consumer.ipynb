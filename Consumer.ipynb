{
 "cells": [
  {
   "cell_type": "code",
   "execution_count": 1,
   "metadata": {
    "colab": {
     "base_uri": "https://localhost:8080/"
    },
    "id": "axGfpy9OH595",
    "outputId": "bb81412c-6557-4b77-bb38-ec2fe9fa278a"
   },
   "outputs": [
    {
     "name": "stdout",
     "output_type": "stream",
     "text": [
      "Defaulting to user installation because normal site-packages is not writeable\n",
      "Requirement already satisfied: confluent_kafka in /usr/lib/python3/dist-packages (1.3.0)\n"
     ]
    }
   ],
   "source": [
    "!pip install confluent_kafka"
   ]
  },
  {
   "cell_type": "code",
   "execution_count": null,
   "metadata": {
    "colab": {
     "base_uri": "https://localhost:8080/"
    },
    "id": "aT7mYbrQISIW",
    "outputId": "fc8ba4d8-7891-45e3-bb68-590e6c173a70",
    "scrolled": true
   },
   "outputs": [
    {
     "name": "stderr",
     "output_type": "stream",
     "text": [
      "% dq0utqfp-default [1] at offset 18 with key b'{\"nome_destino\": \"Balneario Camboriu\", \"id_destino\": \"192594\", \"checkin\": \"2021-11-28\", \"checkout\": \"2021-11-30\", \"pax\": \"2\"}':\n"
     ]
    },
    {
     "name": "stdout",
     "output_type": "stream",
     "text": [
      "b'orders'\n",
      "{'nome_destino': 'Balneario Camboriu', 'id_destino': '192594', 'checkin': '2021-11-28', 'checkout': '2021-11-30', 'pax': '2'}\n",
      "Balneario Camboriu\n",
      "192594\n",
      "2021-11-28\n",
      "2021-11-30\n",
      "2\n"
     ]
    }
   ],
   "source": [
    "import sys\n",
    "import os\n",
    "import json\n",
    "\n",
    "from confluent_kafka import Consumer, KafkaException, KafkaError\n",
    "\n",
    "def createConsumer():\n",
    "\n",
    "    topics = ['dq0utqfp-default']\n",
    "\n",
    "    conf = {\n",
    "        'bootstrap.servers': 'glider-01.srvs.cloudkafka.com:9094,glider-02.srvs.cloudkafka.com:9094,glider-03.srvs.cloudkafka.com:9094',\n",
    "        'group.id': \"%s-consumer\" % 'dq0utqfp',\n",
    "        'session.timeout.ms': 6000,\n",
    "        'default.topic.config': {'auto.offset.reset': 'smallest'},\n",
    "        'security.protocol': 'SASL_SSL',\n",
    "        'sasl.mechanisms': 'SCRAM-SHA-256',\n",
    "        'sasl.username': 'dq0utqfp',\n",
    "        'sasl.password': 'qjNF0zq-VlOi4OyTgkoIrqGcZtBLT17u'\n",
    "    }\n",
    "\n",
    "    c = Consumer(conf)\n",
    "    c.subscribe(topics)\n",
    "    try:\n",
    "        while True:\n",
    "            msg = c.poll(timeout=1.0)\n",
    "            if msg is None:\n",
    "                continue\n",
    "            if msg.error():\n",
    "                if msg.error().code() == KafkaError._PARTITION_EOF:\n",
    "                    sys.stderr.write('%% %s [%d] reached end at offset %d\\n' %\n",
    "                                     (msg.topic(), msg.partition(), msg.offset()))\n",
    "                elif msg.error():\n",
    "                    raise KafkaException(msg.error())\n",
    "            else:\n",
    "                sys.stderr.write('%% %s [%d] at offset %d with key %s:\\n' %\n",
    "                                 (msg.topic(), msg.partition(), msg.offset(),\n",
    "                                  str(msg.key())))\n",
    "                \n",
    "                print(msg.value())\n",
    "                orders = msg.key()\n",
    "                params = json.loads(orders.decode('utf-8'))\n",
    "                print(params)\n",
    "                nome_destino = params[\"nome_destino\"]\n",
    "                print(nome_destino)\n",
    "                id_destino = params[\"id_destino\"]\n",
    "                print(id_destino)\n",
    "                checkin = params[\"checkin\"]\n",
    "                print(checkin)\n",
    "                checkout = params[\"checkout\"]\n",
    "                print(checkout)\n",
    "                pax = params[\"pax\"]\n",
    "                print(pax)\n",
    "                \n",
    "    except KeyboardInterrupt:\n",
    "        sys.stderr.write('Aborted by user')\n",
    "\n",
    "    c.close()\n",
    "\n",
    "createConsumer()"
   ]
  },
  {
   "cell_type": "code",
   "execution_count": null,
   "metadata": {},
   "outputs": [],
   "source": []
  }
 ],
 "metadata": {
  "colab": {
   "name": "Consumer.ipynb",
   "provenance": []
  },
  "kernelspec": {
   "display_name": "Python 3 (ipykernel)",
   "language": "python",
   "name": "python3"
  },
  "language_info": {
   "codemirror_mode": {
    "name": "ipython",
    "version": 3
   },
   "file_extension": ".py",
   "mimetype": "text/x-python",
   "name": "python",
   "nbconvert_exporter": "python",
   "pygments_lexer": "ipython3",
   "version": "3.9.5"
  }
 },
 "nbformat": 4,
 "nbformat_minor": 4
}
